{
 "cells": [
  {
   "cell_type": "code",
   "execution_count": 17,
   "metadata": {},
   "outputs": [
    {
     "ename": "TimeoutException",
     "evalue": "Message: \nStacktrace:\n#0 0x566a9a54514e <unknown>\n#1 0x566a9a208686 <unknown>\n#2 0x566a9a258083 <unknown>\n#3 0x566a9a2581a1 <unknown>\n#4 0x566a9a29ec84 <unknown>\n#5 0x566a9a27d29d <unknown>\n#6 0x566a9a29c72e <unknown>\n#7 0x566a9a27d013 <unknown>\n#8 0x566a9a24b19d <unknown>\n#9 0x566a9a24be8e <unknown>\n#10 0x566a9a518101 <unknown>\n#11 0x566a9a51b36d <unknown>\n#12 0x566a9a51adeb <unknown>\n#13 0x566a9a51b7d5 <unknown>\n#14 0x566a9a509762 <unknown>\n#15 0x566a9a51bb5d <unknown>\n#16 0x566a9a4f4255 <unknown>\n#17 0x566a9a5356d8 <unknown>\n#18 0x566a9a5358ed <unknown>\n#19 0x566a9a543f91 <unknown>\n#20 0x7dba21e94ac3 <unknown>\n",
     "output_type": "error",
     "traceback": [
      "\u001b[0;31m---------------------------------------------------------------------------\u001b[0m",
      "\u001b[0;31mTimeoutException\u001b[0m                          Traceback (most recent call last)",
      "Cell \u001b[0;32mIn[17], line 26\u001b[0m\n\u001b[1;32m     24\u001b[0m \u001b[38;5;66;03m# Wait for the table to be present\u001b[39;00m\n\u001b[1;32m     25\u001b[0m wait \u001b[38;5;241m=\u001b[39m WebDriverWait(driver, \u001b[38;5;241m10\u001b[39m)\n\u001b[0;32m---> 26\u001b[0m table \u001b[38;5;241m=\u001b[39m \u001b[43mwait\u001b[49m\u001b[38;5;241;43m.\u001b[39;49m\u001b[43muntil\u001b[49m\u001b[43m(\u001b[49m\u001b[43mEC\u001b[49m\u001b[38;5;241;43m.\u001b[39;49m\u001b[43mpresence_of_element_located\u001b[49m\u001b[43m(\u001b[49m\u001b[43m(\u001b[49m\u001b[43mBy\u001b[49m\u001b[38;5;241;43m.\u001b[39;49m\u001b[43mCLASS_NAME\u001b[49m\u001b[43m,\u001b[49m\u001b[43m \u001b[49m\u001b[38;5;124;43m\"\u001b[39;49m\u001b[38;5;124;43mkursusblokclass\u001b[39;49m\u001b[38;5;124;43m\"\u001b[39;49m\u001b[43m)\u001b[49m\u001b[43m)\u001b[49m\u001b[43m)\u001b[49m\n\u001b[1;32m     28\u001b[0m \u001b[38;5;66;03m# Extract the rows from the table\u001b[39;00m\n\u001b[1;32m     29\u001b[0m rows \u001b[38;5;241m=\u001b[39m table\u001b[38;5;241m.\u001b[39mfind_elements(By\u001b[38;5;241m.\u001b[39mTAG_NAME, \u001b[38;5;124m\"\u001b[39m\u001b[38;5;124mtr\u001b[39m\u001b[38;5;124m\"\u001b[39m)\n",
      "File \u001b[0;32m~/.local/lib/python3.10/site-packages/selenium/webdriver/support/wait.py:105\u001b[0m, in \u001b[0;36mWebDriverWait.until\u001b[0;34m(self, method, message)\u001b[0m\n\u001b[1;32m    103\u001b[0m     \u001b[38;5;28;01mif\u001b[39;00m time\u001b[38;5;241m.\u001b[39mmonotonic() \u001b[38;5;241m>\u001b[39m end_time:\n\u001b[1;32m    104\u001b[0m         \u001b[38;5;28;01mbreak\u001b[39;00m\n\u001b[0;32m--> 105\u001b[0m \u001b[38;5;28;01mraise\u001b[39;00m TimeoutException(message, screen, stacktrace)\n",
      "\u001b[0;31mTimeoutException\u001b[0m: Message: \nStacktrace:\n#0 0x566a9a54514e <unknown>\n#1 0x566a9a208686 <unknown>\n#2 0x566a9a258083 <unknown>\n#3 0x566a9a2581a1 <unknown>\n#4 0x566a9a29ec84 <unknown>\n#5 0x566a9a27d29d <unknown>\n#6 0x566a9a29c72e <unknown>\n#7 0x566a9a27d013 <unknown>\n#8 0x566a9a24b19d <unknown>\n#9 0x566a9a24be8e <unknown>\n#10 0x566a9a518101 <unknown>\n#11 0x566a9a51b36d <unknown>\n#12 0x566a9a51adeb <unknown>\n#13 0x566a9a51b7d5 <unknown>\n#14 0x566a9a509762 <unknown>\n#15 0x566a9a51bb5d <unknown>\n#16 0x566a9a4f4255 <unknown>\n#17 0x566a9a5356d8 <unknown>\n#18 0x566a9a5358ed <unknown>\n#19 0x566a9a543f91 <unknown>\n#20 0x7dba21e94ac3 <unknown>\n"
     ]
    }
   ],
   "source": [
    "from selenium import webdriver\n",
    "from selenium.webdriver.edge.service import Service as EdgeService\n",
    "from selenium.webdriver.common.by import By\n",
    "from selenium.webdriver.support.ui import WebDriverWait\n",
    "from selenium.webdriver.support import expected_conditions as EC\n",
    "from selenium.webdriver.edge.options import Options\n",
    "from webdriver_manager.microsoft import EdgeChromiumDriverManager\n",
    "import time\n",
    "\n",
    "int 1\n",
    "\n",
    "# Set up Edge options\n",
    "options = Options()\n",
    "options.add_argument(\"--headless\")  # Run in headless mode if you don't need a browser window popping up\n",
    "options.add_argument(\"--disable-gpu\")  # Disable GPU acceleration\n",
    "options.add_argument(\"--no-sandbox\")\n",
    "\n",
    "# Initialize the WebDriver\n",
    "driver = webdriver.Edge(service=EdgeService(EdgeChromiumDriverManager().install()), options=options)\n",
    "\n",
    "try:\n",
    "    # Open the URL\n",
    "    url = \"https://www.dtu.dk/english/education/graduate/msc-programmes/computer-science-and-engineering/specialization/computer-security\"\n",
    "    driver.get(url)\n",
    "\n",
    "    # Wait for the table to be present (increased wait time)\n",
    "    wait = WebDriverWait(driver, 20)\n",
    "    table = wait.until(EC.presence_of_element_located((By.CLASS_NAME, \"kursusblokclass\")))\n",
    "\n",
    "    # Extract the rows from the table\n",
    "    rows = table.find_elements(By.TAG_NAME, \"tr\")\n",
    "\n",
    "    # Iterate through the rows and extract the data\n",
    "    courses = []\n",
    "    for row in rows:\n",
    "        columns = row.find_elements(By.TAG_NAME, \"td\")\n",
    "        course_data = [column.text for column in columns]\n",
    "        courses.append(course_data)\n",
    "\n",
    "    # Print the extracted course data\n",
    "    for course in courses:\n",
    "        print(course)\n",
    "\n",
    "finally:\n",
    "    # Close the driver\n",
    "    driver.quit()\n"
   ]
  },
  {
   "cell_type": "code",
   "execution_count": null,
   "metadata": {},
   "outputs": [],
   "source": []
  }
 ],
 "metadata": {
  "kernelspec": {
   "display_name": "Python 3",
   "language": "python",
   "name": "python3"
  },
  "language_info": {
   "codemirror_mode": {
    "name": "ipython",
    "version": 3
   },
   "file_extension": ".py",
   "mimetype": "text/x-python",
   "name": "python",
   "nbconvert_exporter": "python",
   "pygments_lexer": "ipython3",
   "version": "3.10.12"
  }
 },
 "nbformat": 4,
 "nbformat_minor": 2
}
