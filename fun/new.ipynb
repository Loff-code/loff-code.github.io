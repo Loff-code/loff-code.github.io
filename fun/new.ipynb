{
 "cells": [
  {
   "cell_type": "code",
   "execution_count": 3,
   "metadata": {},
   "outputs": [
    {
     "name": "stderr",
     "output_type": "stream",
     "text": [
      "[ WARN:0@12.851] global loadsave.cpp:241 findDecoder imread_('sudoku.jpg'): can't open/read file: check file path/integrity\n"
     ]
    },
    {
     "ename": "error",
     "evalue": "OpenCV(4.10.0) /io/opencv/modules/imgproc/src/smooth.dispatch.cpp:617: error: (-215:Assertion failed) !_src.empty() in function 'GaussianBlur'\n",
     "output_type": "error",
     "traceback": [
      "\u001b[0;31m---------------------------------------------------------------------------\u001b[0m",
      "\u001b[0;31merror\u001b[0m                                     Traceback (most recent call last)",
      "Cell \u001b[0;32mIn[3], line 7\u001b[0m\n\u001b[1;32m      5\u001b[0m \u001b[38;5;66;03m# Load and preprocess image\u001b[39;00m\n\u001b[1;32m      6\u001b[0m img \u001b[38;5;241m=\u001b[39m cv2\u001b[38;5;241m.\u001b[39mimread(\u001b[38;5;124m'\u001b[39m\u001b[38;5;124msudoku.jpg\u001b[39m\u001b[38;5;124m'\u001b[39m, cv2\u001b[38;5;241m.\u001b[39mIMREAD_GRAYSCALE)\n\u001b[0;32m----> 7\u001b[0m blurred \u001b[38;5;241m=\u001b[39m \u001b[43mcv2\u001b[49m\u001b[38;5;241;43m.\u001b[39;49m\u001b[43mGaussianBlur\u001b[49m\u001b[43m(\u001b[49m\u001b[43mimg\u001b[49m\u001b[43m,\u001b[49m\u001b[43m \u001b[49m\u001b[43m(\u001b[49m\u001b[38;5;241;43m9\u001b[39;49m\u001b[43m,\u001b[49m\u001b[43m \u001b[49m\u001b[38;5;241;43m9\u001b[39;49m\u001b[43m)\u001b[49m\u001b[43m,\u001b[49m\u001b[43m \u001b[49m\u001b[38;5;241;43m0\u001b[39;49m\u001b[43m)\u001b[49m\n\u001b[1;32m      8\u001b[0m thresh \u001b[38;5;241m=\u001b[39m cv2\u001b[38;5;241m.\u001b[39madaptiveThreshold(blurred, \u001b[38;5;241m255\u001b[39m, cv2\u001b[38;5;241m.\u001b[39mADAPTIVE_THRESH_GAUSSIAN_C, cv2\u001b[38;5;241m.\u001b[39mTHRESH_BINARY, \u001b[38;5;241m11\u001b[39m, \u001b[38;5;241m2\u001b[39m)\n\u001b[1;32m     10\u001b[0m \u001b[38;5;66;03m# Invert image\u001b[39;00m\n",
      "\u001b[0;31merror\u001b[0m: OpenCV(4.10.0) /io/opencv/modules/imgproc/src/smooth.dispatch.cpp:617: error: (-215:Assertion failed) !_src.empty() in function 'GaussianBlur'\n"
     ]
    }
   ],
   "source": [
    "import cv2\n",
    "import numpy as np\n",
    "import pytesseract\n",
    "\n",
    "# Load and preprocess image\n",
    "img = cv2.imread('sudoku.jpg', cv2.IMREAD_GRAYSCALE)\n",
    "blurred = cv2.GaussianBlur(img, (9, 9), 0)\n",
    "thresh = cv2.adaptiveThreshold(blurred, 255, cv2.ADAPTIVE_THRESH_GAUSSIAN_C, cv2.THRESH_BINARY, 11, 2)\n",
    "\n",
    "# Invert image\n",
    "thresh = cv2.bitwise_not(thresh)\n",
    "\n",
    "# Find contours (sudoku grid)\n",
    "contours, _ = cv2.findContours(thresh, cv2.RETR_EXTERNAL, cv2.CHAIN_APPROX_SIMPLE)\n",
    "grid_contour = max(contours, key=cv2.contourArea)\n",
    "\n",
    "# Approximate the contour to get the corners of the grid\n",
    "epsilon = 0.02 * cv2.arcLength(grid_contour, True)\n",
    "approx = cv2.approxPolyDP(grid_contour, epsilon, True)\n",
    "\n",
    "# Warp the image to a square grid\n",
    "pts = np.float32([approx[0], approx[1], approx[2], approx[3]])\n",
    "side = max([cv2.norm(approx[0], approx[1]), cv2.norm(approx[1], approx[2])])\n",
    "dst = np.float32([[0, 0], [side, 0], [side, side], [0, side]])\n",
    "\n",
    "M = cv2.getPerspectiveTransform(pts, dst)\n",
    "warped = cv2.warpPerspective(thresh, M, (int(side), int(side)))\n",
    "\n",
    "# Now we can divide the warped image into a 9x9 grid\n",
    "cell_side = warped.shape[0] // 9\n",
    "\n",
    "# Recognize digits using OCR (Tesseract)\n",
    "sudoku_grid = []\n",
    "for i in range(9):\n",
    "    row = []\n",
    "    for j in range(9):\n",
    "        cell = warped[i * cell_side:(i + 1) * cell_side, j * cell_side:(j + 1) * cell_side]\n",
    "        digit = pytesseract.image_to_string(cell, config='--psm 10 digits')\n",
    "        row.append(int(digit) if digit.isdigit() else 0)\n",
    "    sudoku_grid.append(row)\n",
    "\n",
    "# sudoku_grid now contains the extracted puzzle\n"
   ]
  },
  {
   "cell_type": "code",
   "execution_count": 3,
   "metadata": {},
   "outputs": [
    {
     "name": "stdout",
     "output_type": "stream",
     "text": [
      "2\n"
     ]
    }
   ],
   "source": [
    "def main():\n",
    "    a = 2    \n",
    "    add(a)\n",
    "    print(a)\n",
    "\n",
    "def add(a):\n",
    "    a += 2\n",
    "main()"
   ]
  },
  {
   "cell_type": "code",
   "execution_count": null,
   "metadata": {},
   "outputs": [],
   "source": []
  }
 ],
 "metadata": {
  "kernelspec": {
   "display_name": "Python 3",
   "language": "python",
   "name": "python3"
  },
  "language_info": {
   "codemirror_mode": {
    "name": "ipython",
    "version": 3
   },
   "file_extension": ".py",
   "mimetype": "text/x-python",
   "name": "python",
   "nbconvert_exporter": "python",
   "pygments_lexer": "ipython3",
   "version": "3.10.12"
  }
 },
 "nbformat": 4,
 "nbformat_minor": 2
}
